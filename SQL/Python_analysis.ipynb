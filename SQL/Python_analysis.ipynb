{
 "cells": [
  {
   "cell_type": "markdown",
   "id": "30d5e6b6",
   "metadata": {},
   "source": [
    "#  Проект по SQL"
   ]
  },
  {
   "cell_type": "markdown",
   "id": "189586e4",
   "metadata": {},
   "source": [
    "## 1. Чтение датафреймов с помощью pandas"
   ]
  },
  {
   "cell_type": "code",
   "execution_count": 147,
   "id": "7c6d1bd1",
   "metadata": {},
   "outputs": [],
   "source": [
    "import pandas as pd\n",
    "import numpy as np"
   ]
  },
  {
   "cell_type": "markdown",
   "id": "d8a11ecf",
   "metadata": {},
   "source": [
    "Данные ресторанов"
   ]
  },
  {
   "cell_type": "code",
   "execution_count": 258,
   "id": "ddfe14c4",
   "metadata": {},
   "outputs": [],
   "source": [
    "# данные об способах оплаты\n",
    "\n",
    "chefmozaccepts = pd.read_csv('chefmozaccepts.csv')"
   ]
  },
  {
   "cell_type": "code",
   "execution_count": 251,
   "id": "3b662fbd",
   "metadata": {},
   "outputs": [],
   "source": [
    "# данные о видах кухни ресторанов\n",
    "\n",
    "chefmozcuisine = pd.read_csv('chefmozcuisine.csv')"
   ]
  },
  {
   "cell_type": "code",
   "execution_count": 261,
   "id": "7c25fd75",
   "metadata": {},
   "outputs": [],
   "source": [
    "# данные о режиме работы ресторанов\n",
    "\n",
    "chefmozhours4 = pd.read_csv('chefmozhours4.csv')"
   ]
  },
  {
   "cell_type": "code",
   "execution_count": 255,
   "id": "5a3e37b7",
   "metadata": {},
   "outputs": [],
   "source": [
    "# данные о наличии парковочных мест возле ресторанов\n",
    "\n",
    "chefmozparking = pd.read_csv('chefmozparking.csv')"
   ]
  },
  {
   "cell_type": "code",
   "execution_count": 24,
   "id": "8a2b5eae",
   "metadata": {},
   "outputs": [],
   "source": [
    "# данные о ресторанах\n",
    "\n",
    "geoplaces2 = pd.read_csv('geoplaces2.csv')"
   ]
  },
  {
   "cell_type": "markdown",
   "id": "217606e9",
   "metadata": {},
   "source": [
    "Данные о клиентах"
   ]
  },
  {
   "cell_type": "code",
   "execution_count": 242,
   "id": "efcd2ba5",
   "metadata": {},
   "outputs": [],
   "source": [
    "# данные о предпочитаемой кухне клиентов (пользователей)\n",
    "\n",
    "usercuisine = pd.read_csv('usercuisine.csv')"
   ]
  },
  {
   "cell_type": "code",
   "execution_count": 245,
   "id": "ae11aa00",
   "metadata": {},
   "outputs": [],
   "source": [
    "# данные о способах оплаты клиетов (пользователей)\n",
    "\n",
    "userpayment = pd.read_csv('userpayment.csv')"
   ]
  },
  {
   "cell_type": "code",
   "execution_count": 33,
   "id": "6d1cd9dc",
   "metadata": {},
   "outputs": [],
   "source": [
    "# данные о клиентах (пользователей)\n",
    "\n",
    "userprofile = pd.read_csv('userprofile.csv')"
   ]
  },
  {
   "cell_type": "markdown",
   "id": "e2cd3e65",
   "metadata": {},
   "source": [
    "Данные о рейтинге ресторанов среди клиентов (пользователей)"
   ]
  },
  {
   "cell_type": "code",
   "execution_count": 248,
   "id": "77ab8ffe",
   "metadata": {},
   "outputs": [],
   "source": [
    "rating_final = pd.read_csv('rating_final.csv')"
   ]
  },
  {
   "cell_type": "markdown",
   "id": "1f7ed8ab",
   "metadata": {},
   "source": [
    "_______"
   ]
  },
  {
   "cell_type": "markdown",
   "id": "623830b2",
   "metadata": {},
   "source": [
    "# 2. Отчеты анализа данных с помощью библиотеки ydata_profiling"
   ]
  },
  {
   "cell_type": "code",
   "execution_count": 37,
   "id": "4a22d471",
   "metadata": {},
   "outputs": [],
   "source": [
    "import ydata_profiling as yp"
   ]
  },
  {
   "cell_type": "code",
   "execution_count": null,
   "id": "d3ea8a46",
   "metadata": {},
   "outputs": [],
   "source": [
    "# df_name.to_notebook_iframe() - показ отчета в ноутбуке"
   ]
  },
  {
   "cell_type": "markdown",
   "id": "65f374f0",
   "metadata": {},
   "source": [
    "Отчеты о данных ресторанов"
   ]
  },
  {
   "cell_type": "code",
   "execution_count": 42,
   "id": "698befde",
   "metadata": {},
   "outputs": [
    {
     "data": {
      "application/vnd.jupyter.widget-view+json": {
       "model_id": "97fffb6a9df64908bc5c2fa874093e54",
       "version_major": 2,
       "version_minor": 0
      },
      "text/plain": [
       "Summarize dataset:   0%|          | 0/5 [00:00<?, ?it/s]"
      ]
     },
     "metadata": {},
     "output_type": "display_data"
    },
    {
     "data": {
      "application/vnd.jupyter.widget-view+json": {
       "model_id": "b4bf0968edec4ec98affd6337a855a9c",
       "version_major": 2,
       "version_minor": 0
      },
      "text/plain": [
       "Generate report structure:   0%|          | 0/1 [00:00<?, ?it/s]"
      ]
     },
     "metadata": {},
     "output_type": "display_data"
    },
    {
     "data": {
      "application/vnd.jupyter.widget-view+json": {
       "model_id": "34ba9e3a885d4d86bb35ce875467a948",
       "version_major": 2,
       "version_minor": 0
      },
      "text/plain": [
       "Render HTML:   0%|          | 0/1 [00:00<?, ?it/s]"
      ]
     },
     "metadata": {},
     "output_type": "display_data"
    },
    {
     "data": {
      "application/vnd.jupyter.widget-view+json": {
       "model_id": "40668e7fd7664f1a9cad623daa17d8a3",
       "version_major": 2,
       "version_minor": 0
      },
      "text/plain": [
       "Export report to file:   0%|          | 0/1 [00:00<?, ?it/s]"
      ]
     },
     "metadata": {},
     "output_type": "display_data"
    }
   ],
   "source": [
    "# отчет анализа данных об способах оплаты\n",
    "chefmozaccepts_report = yp.ProfileReport(chefmozaccepts, title=\"chefmozaccepts\")\n",
    "\n",
    "# создание отчета в формате html\n",
    "chefmozaccepts_report.to_file(\"chefmozaccepts_report.html\")"
   ]
  },
  {
   "cell_type": "code",
   "execution_count": 43,
   "id": "6ed8b864",
   "metadata": {},
   "outputs": [
    {
     "data": {
      "application/vnd.jupyter.widget-view+json": {
       "model_id": "1cf4b08af19745bcae8cba9763ec26b3",
       "version_major": 2,
       "version_minor": 0
      },
      "text/plain": [
       "Summarize dataset:   0%|          | 0/5 [00:00<?, ?it/s]"
      ]
     },
     "metadata": {},
     "output_type": "display_data"
    },
    {
     "data": {
      "application/vnd.jupyter.widget-view+json": {
       "model_id": "0bbe8c795b084515bcba15242ed47a8e",
       "version_major": 2,
       "version_minor": 0
      },
      "text/plain": [
       "Generate report structure:   0%|          | 0/1 [00:00<?, ?it/s]"
      ]
     },
     "metadata": {},
     "output_type": "display_data"
    },
    {
     "data": {
      "application/vnd.jupyter.widget-view+json": {
       "model_id": "cfdb61b96c404764a2d278682d07140a",
       "version_major": 2,
       "version_minor": 0
      },
      "text/plain": [
       "Render HTML:   0%|          | 0/1 [00:00<?, ?it/s]"
      ]
     },
     "metadata": {},
     "output_type": "display_data"
    },
    {
     "data": {
      "application/vnd.jupyter.widget-view+json": {
       "model_id": "25f01b0efc8845b3ae54332a0345b6dc",
       "version_major": 2,
       "version_minor": 0
      },
      "text/plain": [
       "Export report to file:   0%|          | 0/1 [00:00<?, ?it/s]"
      ]
     },
     "metadata": {},
     "output_type": "display_data"
    }
   ],
   "source": [
    "# отчет анализа данныех о видах кухни ресторанов\n",
    "chefmozcuisine_report = yp.ProfileReport(chefmozcuisine, title=\"chefmozcuisine\")\n",
    "\n",
    "# создание отчета в формате html\n",
    "chefmozcuisine_report.to_file(\"chefmozcuisine_report.html\")"
   ]
  },
  {
   "cell_type": "code",
   "execution_count": 95,
   "id": "854400f0",
   "metadata": {},
   "outputs": [],
   "source": [
    "# отчет анализа данныех о режиме работы ресторанов не получился из-за ошибки:\n",
    "# TypeError: descriptor 'to_pydatetime' for 'pandas._libs.tslibs.timestamps._Timestamp' objects doesn't apply to a 'datetime.datetime' object\n",
    "\n",
    "chefmozhours4_report = yp.ProfileReport(chefmozhours4, title=\"chefmozhours4\")\n",
    "# создание отчета в формате html\n",
    "# chefmozhours4_report.to_file(\"chefmozhours4_report.html\")"
   ]
  },
  {
   "cell_type": "code",
   "execution_count": 47,
   "id": "b76444d5",
   "metadata": {},
   "outputs": [
    {
     "data": {
      "application/vnd.jupyter.widget-view+json": {
       "model_id": "5715be0abe884cc5832d9b0664524b39",
       "version_major": 2,
       "version_minor": 0
      },
      "text/plain": [
       "Summarize dataset:   0%|          | 0/5 [00:00<?, ?it/s]"
      ]
     },
     "metadata": {},
     "output_type": "display_data"
    },
    {
     "data": {
      "application/vnd.jupyter.widget-view+json": {
       "model_id": "5101069a5b0b4252b53b8affce333433",
       "version_major": 2,
       "version_minor": 0
      },
      "text/plain": [
       "Generate report structure:   0%|          | 0/1 [00:00<?, ?it/s]"
      ]
     },
     "metadata": {},
     "output_type": "display_data"
    },
    {
     "data": {
      "application/vnd.jupyter.widget-view+json": {
       "model_id": "fe66d3002e9d4c8cac6e832b8774c062",
       "version_major": 2,
       "version_minor": 0
      },
      "text/plain": [
       "Render HTML:   0%|          | 0/1 [00:00<?, ?it/s]"
      ]
     },
     "metadata": {},
     "output_type": "display_data"
    },
    {
     "data": {
      "application/vnd.jupyter.widget-view+json": {
       "model_id": "f7a119c66d8546fb94af5d4da12e3a36",
       "version_major": 2,
       "version_minor": 0
      },
      "text/plain": [
       "Export report to file:   0%|          | 0/1 [00:00<?, ?it/s]"
      ]
     },
     "metadata": {},
     "output_type": "display_data"
    }
   ],
   "source": [
    "# отчет анализа данныех о наличии парковочных мест возле ресторанов\n",
    "chefmozparking_report = yp.ProfileReport(chefmozparking, title=\"chefmozparking\")\n",
    "\n",
    "# создание отчета в формате html\n",
    "chefmozparking_report.to_file(\"chefmozparking_report.html\")"
   ]
  },
  {
   "cell_type": "code",
   "execution_count": 48,
   "id": "0797851c",
   "metadata": {},
   "outputs": [
    {
     "data": {
      "application/vnd.jupyter.widget-view+json": {
       "model_id": "f1f84a140724494b87476abcfcd93577",
       "version_major": 2,
       "version_minor": 0
      },
      "text/plain": [
       "Summarize dataset:   0%|          | 0/5 [00:00<?, ?it/s]"
      ]
     },
     "metadata": {},
     "output_type": "display_data"
    },
    {
     "data": {
      "application/vnd.jupyter.widget-view+json": {
       "model_id": "f448883da55440b6a3571f39fce9f19a",
       "version_major": 2,
       "version_minor": 0
      },
      "text/plain": [
       "Generate report structure:   0%|          | 0/1 [00:00<?, ?it/s]"
      ]
     },
     "metadata": {},
     "output_type": "display_data"
    },
    {
     "data": {
      "application/vnd.jupyter.widget-view+json": {
       "model_id": "ac0d1cf50d41451085510a9a468dd6b8",
       "version_major": 2,
       "version_minor": 0
      },
      "text/plain": [
       "Render HTML:   0%|          | 0/1 [00:00<?, ?it/s]"
      ]
     },
     "metadata": {},
     "output_type": "display_data"
    },
    {
     "data": {
      "application/vnd.jupyter.widget-view+json": {
       "model_id": "77243816fe124ae0bf7b6c2a76ae4b89",
       "version_major": 2,
       "version_minor": 0
      },
      "text/plain": [
       "Export report to file:   0%|          | 0/1 [00:00<?, ?it/s]"
      ]
     },
     "metadata": {},
     "output_type": "display_data"
    }
   ],
   "source": [
    "# отчет анализа данныех о ресторанах\n",
    "geoplaces2_report = yp.ProfileReport(geoplaces2, title=\"geoplaces2\")\n",
    "\n",
    "# создание отчета в формате html\n",
    "geoplaces2_report.to_file(\"geoplaces2_report.html\")"
   ]
  },
  {
   "cell_type": "markdown",
   "id": "2bb67cc7",
   "metadata": {},
   "source": [
    "Отчеты о данных клиентов"
   ]
  },
  {
   "cell_type": "code",
   "execution_count": 49,
   "id": "338d8628",
   "metadata": {},
   "outputs": [
    {
     "data": {
      "application/vnd.jupyter.widget-view+json": {
       "model_id": "d09527f671c64e53b73250216890ba55",
       "version_major": 2,
       "version_minor": 0
      },
      "text/plain": [
       "Summarize dataset:   0%|          | 0/5 [00:00<?, ?it/s]"
      ]
     },
     "metadata": {},
     "output_type": "display_data"
    },
    {
     "data": {
      "application/vnd.jupyter.widget-view+json": {
       "model_id": "10ebd0f4885742ed834192e2c9ecbda2",
       "version_major": 2,
       "version_minor": 0
      },
      "text/plain": [
       "Generate report structure:   0%|          | 0/1 [00:00<?, ?it/s]"
      ]
     },
     "metadata": {},
     "output_type": "display_data"
    },
    {
     "data": {
      "application/vnd.jupyter.widget-view+json": {
       "model_id": "3f69f02834474ce1b5c50fe0b2b39bfe",
       "version_major": 2,
       "version_minor": 0
      },
      "text/plain": [
       "Render HTML:   0%|          | 0/1 [00:00<?, ?it/s]"
      ]
     },
     "metadata": {},
     "output_type": "display_data"
    },
    {
     "data": {
      "application/vnd.jupyter.widget-view+json": {
       "model_id": "efc986700a794882a6125159d858b0f2",
       "version_major": 2,
       "version_minor": 0
      },
      "text/plain": [
       "Export report to file:   0%|          | 0/1 [00:00<?, ?it/s]"
      ]
     },
     "metadata": {},
     "output_type": "display_data"
    }
   ],
   "source": [
    "# отчет анализа данных о предпочитаемой кухне клиентов (пользователей)\n",
    "usercuisine_report = yp.ProfileReport(usercuisine, title=\"usercuisine\")\n",
    "\n",
    "# создание отчета в формате html\n",
    "usercuisine_report.to_file(\"usercuisine_report.html\")"
   ]
  },
  {
   "cell_type": "code",
   "execution_count": 50,
   "id": "d8f8babf",
   "metadata": {},
   "outputs": [
    {
     "data": {
      "application/vnd.jupyter.widget-view+json": {
       "model_id": "abf393356c0548c0b96b0f9a16029db5",
       "version_major": 2,
       "version_minor": 0
      },
      "text/plain": [
       "Summarize dataset:   0%|          | 0/5 [00:00<?, ?it/s]"
      ]
     },
     "metadata": {},
     "output_type": "display_data"
    },
    {
     "data": {
      "application/vnd.jupyter.widget-view+json": {
       "model_id": "f031c40f334b4504bf0c833da55eed4f",
       "version_major": 2,
       "version_minor": 0
      },
      "text/plain": [
       "Generate report structure:   0%|          | 0/1 [00:00<?, ?it/s]"
      ]
     },
     "metadata": {},
     "output_type": "display_data"
    },
    {
     "data": {
      "application/vnd.jupyter.widget-view+json": {
       "model_id": "1bbeef9ce3f24949883cbdb9838c2543",
       "version_major": 2,
       "version_minor": 0
      },
      "text/plain": [
       "Render HTML:   0%|          | 0/1 [00:00<?, ?it/s]"
      ]
     },
     "metadata": {},
     "output_type": "display_data"
    },
    {
     "data": {
      "application/vnd.jupyter.widget-view+json": {
       "model_id": "5986c81c68464c03999b119044eefa25",
       "version_major": 2,
       "version_minor": 0
      },
      "text/plain": [
       "Export report to file:   0%|          | 0/1 [00:00<?, ?it/s]"
      ]
     },
     "metadata": {},
     "output_type": "display_data"
    }
   ],
   "source": [
    "# отчет анализа данныех о способах оплаты клиетов (пользователей)\n",
    "userpayment_report = yp.ProfileReport(userpayment, title=\"userpayment\")\n",
    "\n",
    "# создание отчета в формате html\n",
    "userpayment_report.to_file(\"userpayment_report.html\")"
   ]
  },
  {
   "cell_type": "code",
   "execution_count": 51,
   "id": "343fe3d1",
   "metadata": {},
   "outputs": [
    {
     "data": {
      "application/vnd.jupyter.widget-view+json": {
       "model_id": "2713855837c84a23b1058704408e1d3c",
       "version_major": 2,
       "version_minor": 0
      },
      "text/plain": [
       "Summarize dataset:   0%|          | 0/5 [00:00<?, ?it/s]"
      ]
     },
     "metadata": {},
     "output_type": "display_data"
    },
    {
     "data": {
      "application/vnd.jupyter.widget-view+json": {
       "model_id": "b6a8dc88e3834aea87d7972e1032a17c",
       "version_major": 2,
       "version_minor": 0
      },
      "text/plain": [
       "Generate report structure:   0%|          | 0/1 [00:00<?, ?it/s]"
      ]
     },
     "metadata": {},
     "output_type": "display_data"
    },
    {
     "data": {
      "application/vnd.jupyter.widget-view+json": {
       "model_id": "a7113a489d134daeac19975c1aacce90",
       "version_major": 2,
       "version_minor": 0
      },
      "text/plain": [
       "Render HTML:   0%|          | 0/1 [00:00<?, ?it/s]"
      ]
     },
     "metadata": {},
     "output_type": "display_data"
    },
    {
     "data": {
      "application/vnd.jupyter.widget-view+json": {
       "model_id": "66c4442094de4b8ea0d84026cc753243",
       "version_major": 2,
       "version_minor": 0
      },
      "text/plain": [
       "Export report to file:   0%|          | 0/1 [00:00<?, ?it/s]"
      ]
     },
     "metadata": {},
     "output_type": "display_data"
    }
   ],
   "source": [
    "# отчет анализа данныех о клиентах (пользователей)\n",
    "userprofile_report = yp.ProfileReport(userprofile, title=\"userprofile\")\n",
    "\n",
    "# создание отчета в формате html\n",
    "userprofile_report.to_file(\"userprofile_report.html\")"
   ]
  },
  {
   "cell_type": "markdown",
   "id": "0dbc948b",
   "metadata": {},
   "source": [
    "Отчеты о данных о рейтинге ресторанов среди клиентов (пользователей)"
   ]
  },
  {
   "cell_type": "code",
   "execution_count": 197,
   "id": "a6aec240",
   "metadata": {},
   "outputs": [
    {
     "data": {
      "application/vnd.jupyter.widget-view+json": {
       "model_id": "f1097285370c49ad97dae929ad66e84a",
       "version_major": 2,
       "version_minor": 0
      },
      "text/plain": [
       "Summarize dataset:   0%|          | 0/5 [00:00<?, ?it/s]"
      ]
     },
     "metadata": {},
     "output_type": "display_data"
    },
    {
     "data": {
      "application/vnd.jupyter.widget-view+json": {
       "model_id": "e04b927e700c4d6ba5b2b43579b3ef78",
       "version_major": 2,
       "version_minor": 0
      },
      "text/plain": [
       "Generate report structure:   0%|          | 0/1 [00:00<?, ?it/s]"
      ]
     },
     "metadata": {},
     "output_type": "display_data"
    },
    {
     "data": {
      "application/vnd.jupyter.widget-view+json": {
       "model_id": "71dc71f4f02a4ad2a7ec919d05f1c39d",
       "version_major": 2,
       "version_minor": 0
      },
      "text/plain": [
       "Render HTML:   0%|          | 0/1 [00:00<?, ?it/s]"
      ]
     },
     "metadata": {},
     "output_type": "display_data"
    },
    {
     "data": {
      "application/vnd.jupyter.widget-view+json": {
       "model_id": "f57a22e481474974b0eb949633c468dc",
       "version_major": 2,
       "version_minor": 0
      },
      "text/plain": [
       "Export report to file:   0%|          | 0/1 [00:00<?, ?it/s]"
      ]
     },
     "metadata": {},
     "output_type": "display_data"
    }
   ],
   "source": [
    "# отчет анализа данных о рейтинге ресторанов среди клиентов (пользователей)\n",
    "rating_final_report = yp.ProfileReport(rating_final, title=\"rating_final\")\n",
    "\n",
    "# создание отчета в формате html\n",
    "rating_final_report.to_file(\"rating_final_report.html\")"
   ]
  },
  {
   "cell_type": "markdown",
   "id": "3439e61b",
   "metadata": {},
   "source": [
    "______"
   ]
  },
  {
   "cell_type": "markdown",
   "id": "754de4c3",
   "metadata": {},
   "source": [
    "# 3. Обработка данных"
   ]
  },
  {
   "cell_type": "markdown",
   "id": "b5a7e896",
   "metadata": {},
   "source": [
    "Naming convention: латинские буквы, нижний регистр, разделитель _"
   ]
  },
  {
   "cell_type": "markdown",
   "id": "ea1c1305",
   "metadata": {},
   "source": [
    "Подготовка данных о ресторанах\n",
    "\n",
    "Названия датафреймов ресторанов:\n",
    "- chefmozaccepts\n",
    "- chefmozcuisine\n",
    "- chefmozhours4\n",
    "- chefmozparking\n",
    "- geoplaces2"
   ]
  },
  {
   "cell_type": "code",
   "execution_count": 259,
   "id": "8b66c34f",
   "metadata": {},
   "outputs": [],
   "source": [
    "# согласно очтету в датафрейме о платежных системах рестранов нет отсуствующих, пустых значений и дубликатов\n",
    "\n",
    "# изменение названия колонок согласно Naming convention\n",
    "chefmozaccepts.rename(columns = {'placeID' : 'place_id', 'Rpayment' : 'r_payment'}, inplace = True)"
   ]
  },
  {
   "cell_type": "code",
   "execution_count": 252,
   "id": "2547378c",
   "metadata": {},
   "outputs": [],
   "source": [
    "# согласно очтету в датафрейме о видах кухни ресторанов нет отсуствующих, пустых значений и дубликатов\n",
    "\n",
    "# изменение названия колонок согласно Naming convention\n",
    "chefmozcuisine.rename(columns = {'placeID' : 'place_id', 'Rcuisine' : 'r_cuisine'}, inplace = True)"
   ]
  },
  {
   "cell_type": "code",
   "execution_count": 262,
   "id": "27d0811c",
   "metadata": {},
   "outputs": [],
   "source": [
    "# в датафрейме о видах кухни ресторанов нет отсуствующих, пустых значений и дубликатов\n",
    "\n",
    "# изменение названия колонок согласно Naming convention\n",
    "chefmozhours4.rename(columns = {'placeID' : 'place_id'}, inplace = True)"
   ]
  },
  {
   "cell_type": "code",
   "execution_count": 256,
   "id": "47ef29bf",
   "metadata": {},
   "outputs": [],
   "source": [
    "# согласно очтету в датафреймео о наличии парковочных мест возле ресторанов нет отсуствующих, пустых значений и дубликатов\n",
    "\n",
    "# изменение названия колонок согласно Naming convention\n",
    "chefmozparking.rename(columns = {'placeID' : 'place_id'}, inplace = True)"
   ]
  },
  {
   "cell_type": "code",
   "execution_count": 184,
   "id": "c06be796",
   "metadata": {},
   "outputs": [],
   "source": [
    "# согласно очтету в датафреймео о ресторанах нет отсуствующих, пустых значений и дубликатов\n",
    "\n",
    "# изменение названия колонок согласно Naming convention\n",
    "geoplaces2.rename(columns = {'placeID' : 'place_id', 'Rambience': 'rambience'}, inplace = True)"
   ]
  },
  {
   "cell_type": "code",
   "execution_count": 181,
   "id": "a53f2afe",
   "metadata": {},
   "outputs": [],
   "source": [
    "# удаление непонятных и ненужных колонок\n",
    "geoplaces2.drop(axis=1, labels=['the_geom_meter', 'fax', 'zip'], inplace=True)"
   ]
  },
  {
   "cell_type": "code",
   "execution_count": 182,
   "id": "ce1e5154",
   "metadata": {},
   "outputs": [],
   "source": [
    "# перевод названий стран в нижний регистр\n",
    "geoplaces2['country'] = geoplaces2.country.str.lower()"
   ]
  },
  {
   "cell_type": "markdown",
   "id": "48b31b3e",
   "metadata": {},
   "source": [
    "Подготовка данных о клиентах (пользователях)\n",
    "\n",
    "Названия датафреймов клиентов (пользователей):\n",
    "- usercuisine\n",
    "- userpayment\n",
    "- userprofile"
   ]
  },
  {
   "cell_type": "code",
   "execution_count": 243,
   "id": "94284627",
   "metadata": {},
   "outputs": [],
   "source": [
    "# согласно очтету в датафрейме о предпочитаемой кухне клиентов (пользователей) нет отсуствующих, пустых значений и дубликатов\n",
    "\n",
    "# изменение названия колонок согласно Naming convention\n",
    "usercuisine.rename(columns = {'userID' : 'user_id', 'Rcuisine' : 'u_cuisine'}, inplace = True)"
   ]
  },
  {
   "cell_type": "code",
   "execution_count": 246,
   "id": "eb460ec3",
   "metadata": {},
   "outputs": [],
   "source": [
    "# согласно очтету в датафрейме о способах оплаты клиетов (пользователей) нет отсуствующих, пустых значений и дубликатов\n",
    "\n",
    "# изменение названия колонок согласно Naming convention\n",
    "userpayment.rename(columns = {'userID' : 'user_id', 'Upayment' : 'u_payment'}, inplace = True)"
   ]
  },
  {
   "cell_type": "code",
   "execution_count": 194,
   "id": "34ee6dee",
   "metadata": {},
   "outputs": [],
   "source": [
    "# согласно очтету в датафрейме клиетах (пользователях) нет отсуствующих, пустых значений и дубликатов\n",
    "\n",
    "# изменение названия колонок согласно Naming convention\n",
    "userprofile.rename(columns = {'userID' : 'user_id'}, inplace = True)"
   ]
  },
  {
   "cell_type": "markdown",
   "id": "f968da19",
   "metadata": {},
   "source": [
    "Подготовка данных о рейтинге ресторанов среди клиентов (пользователей)\n",
    "\n",
    "Название датафрейма с рейтингом:\n",
    "- rating_final"
   ]
  },
  {
   "cell_type": "code",
   "execution_count": 249,
   "id": "631e99f5",
   "metadata": {},
   "outputs": [],
   "source": [
    "# согласно очтету в датафрейме о рейтинге ресторанов среди клиентов (пользователей) нет отсуствующих, пустых значений и дубликатов\n",
    "\n",
    "# изменение названия колонок согласно Naming convention\n",
    "rating_final.rename(columns = {'userID' : 'user_id', 'placeID' : 'place_id'}, inplace = True)"
   ]
  },
  {
   "cell_type": "markdown",
   "id": "5510fd39",
   "metadata": {},
   "source": [
    "## 4. Загрузка датасетов в базу данных SQLite"
   ]
  },
  {
   "cell_type": "code",
   "execution_count": 202,
   "id": "d87dbbd1",
   "metadata": {},
   "outputs": [],
   "source": [
    "import sqlite3"
   ]
  },
  {
   "cell_type": "code",
   "execution_count": 206,
   "id": "5f9c1e22",
   "metadata": {},
   "outputs": [],
   "source": [
    "# подключение к базе данных\n",
    "\n",
    "connection = sqlite3.connect(\"restaurant_rating.db\", timeout=10)\n",
    "cur = connection.cursor()"
   ]
  },
  {
   "cell_type": "markdown",
   "id": "f571587b",
   "metadata": {},
   "source": [
    "Загрузка датафреймов ресторанов:\n",
    "- chefmozaccepts\n",
    "- chefmozcuisine\n",
    "- chefmozhours4\n",
    "- chefmozparking\n",
    "- geoplaces2"
   ]
  },
  {
   "cell_type": "code",
   "execution_count": 260,
   "id": "f7f2c525",
   "metadata": {},
   "outputs": [
    {
     "data": {
      "text/plain": [
       "1314"
      ]
     },
     "execution_count": 260,
     "metadata": {},
     "output_type": "execute_result"
    }
   ],
   "source": [
    "chefmozaccepts.to_sql(con=connection, name='restaurant_payment')"
   ]
  },
  {
   "cell_type": "code",
   "execution_count": 253,
   "id": "1f125b54",
   "metadata": {},
   "outputs": [
    {
     "data": {
      "text/plain": [
       "916"
      ]
     },
     "execution_count": 253,
     "metadata": {},
     "output_type": "execute_result"
    }
   ],
   "source": [
    "chefmozcuisine.to_sql(con=connection, name='restaurant_cuisine')"
   ]
  },
  {
   "cell_type": "code",
   "execution_count": 263,
   "id": "eedb59ce",
   "metadata": {},
   "outputs": [
    {
     "data": {
      "text/plain": [
       "2339"
      ]
     },
     "execution_count": 263,
     "metadata": {},
     "output_type": "execute_result"
    }
   ],
   "source": [
    "chefmozhours4.to_sql(con=connection, name='restaurant_working_time')"
   ]
  },
  {
   "cell_type": "code",
   "execution_count": 257,
   "id": "222d72a4",
   "metadata": {},
   "outputs": [
    {
     "data": {
      "text/plain": [
       "702"
      ]
     },
     "execution_count": 257,
     "metadata": {},
     "output_type": "execute_result"
    }
   ],
   "source": [
    "chefmozparking.to_sql(con=connection, name='restaurant_parking')"
   ]
  },
  {
   "cell_type": "code",
   "execution_count": 216,
   "id": "5dab3c6c",
   "metadata": {},
   "outputs": [
    {
     "data": {
      "text/plain": [
       "130"
      ]
     },
     "execution_count": 216,
     "metadata": {},
     "output_type": "execute_result"
    }
   ],
   "source": [
    "geoplaces2.to_sql(con=connection, name='restaurant_info')"
   ]
  },
  {
   "cell_type": "markdown",
   "id": "c4184242",
   "metadata": {},
   "source": [
    "Загрузка датафреймов клиентов (пользователей):\n",
    "- usercuisine\n",
    "- userpayment\n",
    "- userprofile"
   ]
  },
  {
   "cell_type": "code",
   "execution_count": 244,
   "id": "baaa9982",
   "metadata": {},
   "outputs": [
    {
     "data": {
      "text/plain": [
       "330"
      ]
     },
     "execution_count": 244,
     "metadata": {},
     "output_type": "execute_result"
    }
   ],
   "source": [
    "usercuisine.to_sql(con=connection, name='consumer_cuisine')"
   ]
  },
  {
   "cell_type": "code",
   "execution_count": 247,
   "id": "afaa60af",
   "metadata": {},
   "outputs": [
    {
     "data": {
      "text/plain": [
       "177"
      ]
     },
     "execution_count": 247,
     "metadata": {},
     "output_type": "execute_result"
    }
   ],
   "source": [
    "userpayment.to_sql(con=connection, name='consumer_payment')"
   ]
  },
  {
   "cell_type": "code",
   "execution_count": 234,
   "id": "1835fd8e",
   "metadata": {},
   "outputs": [
    {
     "data": {
      "text/plain": [
       "138"
      ]
     },
     "execution_count": 234,
     "metadata": {},
     "output_type": "execute_result"
    }
   ],
   "source": [
    "userprofile.to_sql(con=connection, name='consumer_info')"
   ]
  },
  {
   "cell_type": "markdown",
   "id": "e1dd67c0",
   "metadata": {},
   "source": [
    "Загрузка датафрейма с рейтингом:\n",
    "- rating_final"
   ]
  },
  {
   "cell_type": "code",
   "execution_count": 250,
   "id": "ec88fcbf",
   "metadata": {},
   "outputs": [
    {
     "data": {
      "text/plain": [
       "1161"
      ]
     },
     "execution_count": 250,
     "metadata": {},
     "output_type": "execute_result"
    }
   ],
   "source": [
    "rating_final.to_sql(con=connection, name='rating')"
   ]
  }
 ],
 "metadata": {
  "kernelspec": {
   "display_name": "Python 3 (ipykernel)",
   "language": "python",
   "name": "python3"
  },
  "language_info": {
   "codemirror_mode": {
    "name": "ipython",
    "version": 3
   },
   "file_extension": ".py",
   "mimetype": "text/x-python",
   "name": "python",
   "nbconvert_exporter": "python",
   "pygments_lexer": "ipython3",
   "version": "3.11.2"
  }
 },
 "nbformat": 4,
 "nbformat_minor": 5
}
